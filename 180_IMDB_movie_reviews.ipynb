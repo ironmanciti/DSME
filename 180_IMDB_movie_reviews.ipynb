{
  "nbformat": 4,
  "nbformat_minor": 0,
  "metadata": {
    "accelerator": "GPU",
    "colab": {
      "name": "180_IMDB_movie_reviews.ipynb",
      "provenance": [],
      "collapsed_sections": []
    },
    "kernelspec": {
      "display_name": "Python 3",
      "language": "python",
      "name": "python3"
    },
    "language_info": {
      "codemirror_mode": {
        "name": "ipython",
        "version": 3
      },
      "file_extension": ".py",
      "mimetype": "text/x-python",
      "name": "python",
      "nbconvert_exporter": "python",
      "pygments_lexer": "ipython3",
      "version": "3.7.5"
    }
  },
  "cells": [
    {
      "cell_type": "markdown",
      "metadata": {
        "id": "I1uizVBrqBaD"
      },
      "source": [
        "# 180. 영화평 Text 분류 - Sentiment Analysis\n",
        "\n",
        "- IMDB (Internet Movie Database, https://www.imdb.com/)  Dataset\n",
        "\n",
        "\n",
        "- 각 25,000 개의 training/testing set 으로 구성된 IMDB 영화관람평  \n",
        "\n",
        "\n",
        "- “imdb_reviews” – encoding 되어있지 않은 string 형태의 data  \n",
        "\n",
        "\n",
        "- label : positive, negative binary classification"
      ]
    },
    {
      "cell_type": "markdown",
      "metadata": {
        "id": "S0b7bx1OqBaE"
      },
      "source": [
        "## imbd_reviews (string data) 이용 감성 (이진) 분류"
      ]
    },
    {
      "cell_type": "code",
      "metadata": {
        "id": "hg6PPQxkqBaF"
      },
      "source": [
        "import tensorflow as tf\n",
        "from tensorflow.keras.layers import Dense, LSTM, Embedding, Bidirectional\n",
        "from tensorflow.keras.models import Sequential\n",
        "from tensorflow.keras.preprocessing.text import Tokenizer\n",
        "from tensorflow.keras.preprocessing.sequence import pad_sequences\n",
        "import tensorflow_datasets as tfds\n",
        "import numpy as np\n",
        "import matplotlib.pyplot as plt"
      ],
      "execution_count": 1,
      "outputs": []
    },
    {
      "cell_type": "code",
      "metadata": {
        "id": "kkFAhANFqBaO"
      },
      "source": [
        "dataset, info = tfds.load('imdb_reviews', with_info=True,as_supervised=True)\n",
        "\n",
        "train_dataset, test_dataset = dataset['train'], dataset['test']"
      ],
      "execution_count": 2,
      "outputs": []
    },
    {
      "cell_type": "markdown",
      "metadata": {
        "id": "p9N0cMv2qBaT"
      },
      "source": [
        "### tfds 는 tf.Tensor 반환"
      ]
    },
    {
      "cell_type": "code",
      "metadata": {
        "colab": {
          "base_uri": "https://localhost:8080/"
        },
        "id": "7B0jxUq2qBaU",
        "outputId": "6f3fd6d8-4bc3-4f5b-968f-8fb2914592e8"
      },
      "source": [
        "for input, label in dataset['test']:\n",
        "    print(label)\n",
        "    print()\n",
        "    print(input)\n",
        "    break"
      ],
      "execution_count": 3,
      "outputs": [
        {
          "output_type": "stream",
          "text": [
            "tf.Tensor(1, shape=(), dtype=int64)\n",
            "\n",
            "tf.Tensor(b\"There are films that make careers. For George Romero, it was NIGHT OF THE LIVING DEAD; for Kevin Smith, CLERKS; for Robert Rodriguez, EL MARIACHI. Add to that list Onur Tukel's absolutely amazing DING-A-LING-LESS. Flawless film-making, and as assured and as professional as any of the aforementioned movies. I haven't laughed this hard since I saw THE FULL MONTY. (And, even then, I don't think I laughed quite this hard... So to speak.) Tukel's talent is considerable: DING-A-LING-LESS is so chock full of double entendres that one would have to sit down with a copy of this script and do a line-by-line examination of it to fully appreciate the, uh, breadth and width of it. Every shot is beautifully composed (a clear sign of a sure-handed director), and the performances all around are solid (there's none of the over-the-top scenery chewing one might've expected from a film like this). DING-A-LING-LESS is a film whose time has come.\", shape=(), dtype=string)\n"
          ],
          "name": "stdout"
        }
      ]
    },
    {
      "cell_type": "markdown",
      "metadata": {
        "id": "BnS9z6Z2qBaa"
      },
      "source": [
        "## keras.preprocessing module 을 이용하여 tokenize 및 padding\n",
        "- keras.preprocessing.text.Tokenizer  \n",
        "\n",
        "- keras.preprocessing.sequence.pad_sequence"
      ]
    },
    {
      "cell_type": "code",
      "metadata": {
        "id": "gzTkP-1RqBab"
      },
      "source": [
        "train_sentences = []\n",
        "train_labels = []\n",
        "\n",
        "test_sentences = []\n",
        "test_labels = []"
      ],
      "execution_count": 4,
      "outputs": []
    },
    {
      "cell_type": "code",
      "metadata": {
        "id": "wplxqJkSqBah"
      },
      "source": [
        "for sent, label in train_dataset:\n",
        "    train_sentences.append(sent.numpy().decode('utf-8'))\n",
        "    train_labels.append(label.numpy())"
      ],
      "execution_count": 5,
      "outputs": []
    },
    {
      "cell_type": "code",
      "metadata": {
        "colab": {
          "base_uri": "https://localhost:8080/"
        },
        "id": "AwcAy3spqBak",
        "outputId": "72782d91-0856-4993-c091-7c780788b145"
      },
      "source": [
        "print(train_labels[-1])\n",
        "print(train_sentences[-1])"
      ],
      "execution_count": 6,
      "outputs": [
        {
          "output_type": "stream",
          "text": [
            "1\n",
            "First of all, Riget is wonderful. Good comedy and mystery thriller at the same time. Nice combination of strange 'dogma' style of telling the story together with good music and great actors. But unfortunately there's no 'the end'. As for me it's unacceptable. I was thinking... how it will be possible to continue the story without Helmer and Drusse? ...and I have some idea. I think Lars should make RIGET III a little bit different. I'm sure that 3rd part without Helmer wouldn't be the same. So here's my suggestion. Mayble little bit stupid, maybe not. I know that Lars likes to experiment. So why not to make small experiment with Riget3? I think the only solution here is to create puppet-driven animation (like for example \"team America\" by Trey Parker) or even computer 3d animation. I know it's not the same as real actors, but in principle I believe it could work... only this way it's possible to make actors alive again. For Riget fans this shouldn't be so big difference - if the animation will be done in good way average 'watcher' will consider it normal just after first few shots of the movie. The most important thing now is the story. It's completely understandable that it's not possible to create Riget 3 with the actors nowadays. So why not to play with animation? And... look for the possibilities that it gives to you! Even marketing one! Great director finishes his trilogy after 10 years using puppet animation. Just dreams?<br /><br />I hope to see Riget 3 someday... or even to see just the script. I'm curious how the story ends... and as I expect- everybody here do.<br /><br />greets, slaj<br /><br />ps: I'm not talking about the \"kingdom hospital\" by Stephen King ;-)\n"
          ],
          "name": "stdout"
        }
      ]
    },
    {
      "cell_type": "code",
      "metadata": {
        "id": "gpNI1hILqBao"
      },
      "source": [
        "for sent, label in test_dataset:\n",
        "    test_sentences.append(sent.numpy().decode('utf-8'))\n",
        "    test_labels.append(label.numpy())"
      ],
      "execution_count": 7,
      "outputs": []
    },
    {
      "cell_type": "code",
      "metadata": {
        "colab": {
          "base_uri": "https://localhost:8080/"
        },
        "id": "dPxbS4mBqBar",
        "outputId": "99a835ee-3a19-4997-e402-49d5b42a2a87"
      },
      "source": [
        "print(test_labels[-1])\n",
        "print(test_sentences[-1])"
      ],
      "execution_count": 8,
      "outputs": [
        {
          "output_type": "stream",
          "text": [
            "1\n",
            "They just don't make cartoons like they used to. This one had wit, great characters, and the greatest ensemble of voice over artists ever assembled for a daytime cartoon show. This still remains as one of the highest rated daytime cartoon shows, and one of the most honored, winning several Emmy Awards.\n"
          ],
          "name": "stdout"
        }
      ]
    },
    {
      "cell_type": "markdown",
      "metadata": {
        "id": "cYU9_iKEqBau"
      },
      "source": [
        "## train_labels, test_labels 를 Python list 에서 numpy array 로 변환"
      ]
    },
    {
      "cell_type": "code",
      "metadata": {
        "colab": {
          "base_uri": "https://localhost:8080/"
        },
        "id": "hh2ONA0GqBau",
        "outputId": "6f5061cd-9d53-49a5-b57c-d8bede1775b3"
      },
      "source": [
        "train_labels = np.array(train_labels)\n",
        "test_labels = np.array(test_labels)\n",
        "\n",
        "print(train_labels.shape)\n",
        "print(test_labels.shape)"
      ],
      "execution_count": 9,
      "outputs": [
        {
          "output_type": "stream",
          "text": [
            "(25000,)\n",
            "(25000,)\n"
          ],
          "name": "stdout"
        }
      ]
    },
    {
      "cell_type": "markdown",
      "metadata": {
        "id": "cbidTe45qBax"
      },
      "source": [
        "## train_sentences, test_sentences text 를 sequence 로 변환 "
      ]
    },
    {
      "cell_type": "code",
      "metadata": {
        "id": "NuJGndVkqBay"
      },
      "source": [
        "vocab_size = 10000\n",
        "\n",
        "tokenizer = Tokenizer(num_words = vocab_size, oov_token='<OOV>')\n",
        "tokenizer.fit_on_texts(train_sentences)"
      ],
      "execution_count": 10,
      "outputs": []
    },
    {
      "cell_type": "code",
      "metadata": {
        "id": "_C3n9R4IqBa1"
      },
      "source": [
        "train_sequences = tokenizer.texts_to_sequences(train_sentences)\n",
        "test_sequences = tokenizer.texts_to_sequences(test_sentences)"
      ],
      "execution_count": 11,
      "outputs": []
    },
    {
      "cell_type": "code",
      "metadata": {
        "colab": {
          "base_uri": "https://localhost:8080/"
        },
        "id": "GmOUcdlsBSl3",
        "outputId": "e8b07c65-86aa-4aee-c82a-04d5b56854e7"
      },
      "source": [
        "print(train_sequences[0])"
      ],
      "execution_count": 12,
      "outputs": [
        {
          "output_type": "stream",
          "text": [
            "[12, 14, 33, 425, 392, 18, 90, 28, 1, 9, 32, 1366, 3585, 40, 486, 1, 197, 24, 85, 154, 19, 12, 213, 329, 28, 66, 247, 215, 9, 477, 58, 66, 85, 114, 98, 22, 5675, 12, 1322, 643, 767, 12, 18, 7, 33, 400, 8170, 176, 2455, 416, 2, 89, 1231, 137, 69, 146, 52, 2, 1, 7577, 69, 229, 66, 2933, 16, 1, 2904, 1, 1, 1479, 4940, 3, 39, 3900, 117, 1584, 17, 3585, 14, 162, 19, 4, 1231, 917, 7917, 9, 4, 18, 13, 14, 4139, 5, 99, 145, 1214, 11, 242, 683, 13, 48, 24, 100, 38, 12, 7181, 5515, 38, 1366, 1, 50, 401, 11, 98, 1197, 867, 141, 10]\n"
          ],
          "name": "stdout"
        }
      ]
    },
    {
      "cell_type": "code",
      "metadata": {
        "colab": {
          "base_uri": "https://localhost:8080/",
          "height": 299
        },
        "id": "lTeWFNQnqBa3",
        "outputId": "9c34e86f-c402-43d5-9316-9a540ebe733a"
      },
      "source": [
        "import matplotlib.pyplot as plt\n",
        "\n",
        "plt.hist([len(s) for s in train_sequences] + [len(s) for s in test_sequences], bins=50)\n",
        "\n",
        "print('maximun length : {}'.format(max(len(l) for l in train_sequences)))\n",
        "print('average length : {}'.format(sum(map(len, train_sequences))/len(train_sequences)))"
      ],
      "execution_count": 13,
      "outputs": [
        {
          "output_type": "stream",
          "text": [
            "maximun length : 2493\n",
            "average length : 237.71364\n"
          ],
          "name": "stdout"
        },
        {
          "output_type": "display_data",
          "data": {
            "image/png": "[encoded data removed]",
            "text/plain": [
              "<Figure size 432x288 with 1 Axes>"
            ]
          },
          "metadata": {
            "tags": [],
            "needs_background": "light"
          }
        }
      ]
    },
    {
      "cell_type": "code",
      "metadata": {
        "colab": {
          "base_uri": "https://localhost:8080/"
        },
        "id": "tH7F6F4z3kcg",
        "outputId": "383eefa9-b999-4f9b-8242-73df41fb9d71"
      },
      "source": [
        "np.unique(train_labels, return_counts=True)"
      ],
      "execution_count": 14,
      "outputs": [
        {
          "output_type": "execute_result",
          "data": {
            "text/plain": [
              "(array([0, 1]), array([12500, 12500]))"
            ]
          },
          "metadata": {
            "tags": []
          },
          "execution_count": 14
        }
      ]
    },
    {
      "cell_type": "code",
      "metadata": {
        "id": "xDMrGPr1qBa5"
      },
      "source": [
        "max_length = 300\n",
        "\n",
        "train_padded = pad_sequences(train_sequences,maxlen=max_length, truncating='post', padding='post')\n",
        "\n",
        "\n",
        "test_padded = pad_sequences(test_sequences,maxlen=max_length, truncating='post', padding='post')"
      ],
      "execution_count": 15,
      "outputs": []
    },
    {
      "cell_type": "code",
      "metadata": {
        "colab": {
          "base_uri": "https://localhost:8080/"
        },
        "id": "B3To4CLbqBa9",
        "outputId": "9dc9ed13-5c05-4e3e-b66b-5a29550798df"
      },
      "source": [
        "print(train_padded.shape)\n",
        "print(test_padded.shape)\n",
        "print(train_padded[0])"
      ],
      "execution_count": 16,
      "outputs": [
        {
          "output_type": "stream",
          "text": [
            "(25000, 300)\n",
            "(25000, 300)\n",
            "[  12   14   33  425  392   18   90   28    1    9   32 1366 3585   40\n",
            "  486    1  197   24   85  154   19   12  213  329   28   66  247  215\n",
            "    9  477   58   66   85  114   98   22 5675   12 1322  643  767   12\n",
            "   18    7   33  400 8170  176 2455  416    2   89 1231  137   69  146\n",
            "   52    2    1 7577   69  229   66 2933   16    1 2904    1    1 1479\n",
            " 4940    3   39 3900  117 1584   17 3585   14  162   19    4 1231  917\n",
            " 7917    9    4   18   13   14 4139    5   99  145 1214   11  242  683\n",
            "   13   48   24  100   38   12 7181 5515   38 1366    1   50  401   11\n",
            "   98 1197  867  141   10    0    0    0    0    0    0    0    0    0\n",
            "    0    0    0    0    0    0    0    0    0    0    0    0    0    0\n",
            "    0    0    0    0    0    0    0    0    0    0    0    0    0    0\n",
            "    0    0    0    0    0    0    0    0    0    0    0    0    0    0\n",
            "    0    0    0    0    0    0    0    0    0    0    0    0    0    0\n",
            "    0    0    0    0    0    0    0    0    0    0    0    0    0    0\n",
            "    0    0    0    0    0    0    0    0    0    0    0    0    0    0\n",
            "    0    0    0    0    0    0    0    0    0    0    0    0    0    0\n",
            "    0    0    0    0    0    0    0    0    0    0    0    0    0    0\n",
            "    0    0    0    0    0    0    0    0    0    0    0    0    0    0\n",
            "    0    0    0    0    0    0    0    0    0    0    0    0    0    0\n",
            "    0    0    0    0    0    0    0    0    0    0    0    0    0    0\n",
            "    0    0    0    0    0    0    0    0    0    0    0    0    0    0\n",
            "    0    0    0    0    0    0]\n"
          ],
          "name": "stdout"
        }
      ]
    },
    {
      "cell_type": "markdown",
      "metadata": {
        "id": "J4j0WVzCqBbA"
      },
      "source": [
        "## sequence data 를 sentence 로 reverse conversion"
      ]
    },
    {
      "cell_type": "code",
      "metadata": {
        "colab": {
          "base_uri": "https://localhost:8080/"
        },
        "id": "LY7UPgb6qBbB",
        "outputId": "6406bc59-9c39-40c7-858c-bdeb432c0fe4"
      },
      "source": [
        "text = train_padded[0]\n",
        "print(' '.join([tokenizer.index_word.get(i, '<pad>') for i in text]))\n",
        "print()\n",
        "print(train_sentences[0])"
      ],
      "execution_count": 17,
      "outputs": [
        {
          "output_type": "stream",
          "text": [
            "this was an absolutely terrible movie don't be <OOV> in by christopher walken or michael <OOV> both are great actors but this must simply be their worst role in history even their great acting could not redeem this movie's ridiculous storyline this movie is an early nineties us propaganda piece the most pathetic scenes were those when the <OOV> rebels were making their cases for <OOV> maria <OOV> <OOV> appeared phony and her pseudo love affair with walken was nothing but a pathetic emotional plug in a movie that was devoid of any real meaning i am disappointed that there are movies like this ruining actor's like christopher <OOV> good name i could barely sit through it <pad> <pad> <pad> <pad> <pad> <pad> <pad> <pad> <pad> <pad> <pad> <pad> <pad> <pad> <pad> <pad> <pad> <pad> <pad> <pad> <pad> <pad> <pad> <pad> <pad> <pad> <pad> <pad> <pad> <pad> <pad> <pad> <pad> <pad> <pad> <pad> <pad> <pad> <pad> <pad> <pad> <pad> <pad> <pad> <pad> <pad> <pad> <pad> <pad> <pad> <pad> <pad> <pad> <pad> <pad> <pad> <pad> <pad> <pad> <pad> <pad> <pad> <pad> <pad> <pad> <pad> <pad> <pad> <pad> <pad> <pad> <pad> <pad> <pad> <pad> <pad> <pad> <pad> <pad> <pad> <pad> <pad> <pad> <pad> <pad> <pad> <pad> <pad> <pad> <pad> <pad> <pad> <pad> <pad> <pad> <pad> <pad> <pad> <pad> <pad> <pad> <pad> <pad> <pad> <pad> <pad> <pad> <pad> <pad> <pad> <pad> <pad> <pad> <pad> <pad> <pad> <pad> <pad> <pad> <pad> <pad> <pad> <pad> <pad> <pad> <pad> <pad> <pad> <pad> <pad> <pad> <pad> <pad> <pad> <pad> <pad> <pad> <pad> <pad> <pad> <pad> <pad> <pad> <pad> <pad> <pad> <pad> <pad> <pad> <pad> <pad> <pad> <pad> <pad> <pad> <pad> <pad> <pad> <pad> <pad> <pad> <pad> <pad> <pad> <pad> <pad> <pad> <pad> <pad> <pad> <pad> <pad> <pad> <pad> <pad> <pad> <pad> <pad> <pad> <pad> <pad> <pad> <pad>\n",
            "\n",
            "This was an absolutely terrible movie. Don't be lured in by Christopher Walken or Michael Ironside. Both are great actors, but this must simply be their worst role in history. Even their great acting could not redeem this movie's ridiculous storyline. This movie is an early nineties US propaganda piece. The most pathetic scenes were those when the Columbian rebels were making their cases for revolutions. Maria Conchita Alonso appeared phony, and her pseudo-love affair with Walken was nothing but a pathetic emotional plug in a movie that was devoid of any real meaning. I am disappointed that there are movies like this, ruining actor's like Christopher Walken's good name. I could barely sit through it.\n"
          ],
          "name": "stdout"
        }
      ]
    },
    {
      "cell_type": "markdown",
      "metadata": {
        "id": "wVXJRTjVqBbD"
      },
      "source": [
        "## model define"
      ]
    },
    {
      "cell_type": "code",
      "metadata": {
        "colab": {
          "base_uri": "https://localhost:8080/"
        },
        "id": "UjOwdAp2qBbE",
        "outputId": "2013d33a-2f7b-48e0-9cbd-beffd4b25a47"
      },
      "source": [
        "model = Sequential([\n",
        "    Embedding(vocab_size, 100),\n",
        "    Bidirectional(tf.keras.layers.LSTM(64)),\n",
        "    Dense(64, activation='relu'),\n",
        "    Dense(1, activation='sigmoid')\n",
        "])\n",
        "\n",
        "model.compile(loss='binary_crossentropy',optimizer='adam',metrics=['accuracy'])\n",
        "model.summary()"
      ],
      "execution_count": 18,
      "outputs": [
        {
          "output_type": "stream",
          "text": [
            "Model: \"sequential\"\n",
            "_________________________________________________________________\n",
            "Layer (type)                 Output Shape              Param #   \n",
            "=================================================================\n",
            "embedding (Embedding)        (None, None, 100)         1000000   \n",
            "_________________________________________________________________\n",
            "bidirectional (Bidirectional (None, 128)               84480     \n",
            "_________________________________________________________________\n",
            "dense (Dense)                (None, 64)                8256      \n",
            "_________________________________________________________________\n",
            "dense_1 (Dense)              (None, 1)                 65        \n",
            "=================================================================\n",
            "Total params: 1,092,801\n",
            "Trainable params: 1,092,801\n",
            "Non-trainable params: 0\n",
            "_________________________________________________________________\n"
          ],
          "name": "stdout"
        }
      ]
    },
    {
      "cell_type": "code",
      "metadata": {
        "colab": {
          "base_uri": "https://localhost:8080/"
        },
        "id": "aLFmPzmsqBbG",
        "outputId": "4285f6da-5a2f-415e-e1cb-4de448f3e43c"
      },
      "source": [
        "model.summary()"
      ],
      "execution_count": 19,
      "outputs": [
        {
          "output_type": "stream",
          "text": [
            "Model: \"sequential\"\n",
            "_________________________________________________________________\n",
            "Layer (type)                 Output Shape              Param #   \n",
            "=================================================================\n",
            "embedding (Embedding)        (None, None, 100)         1000000   \n",
            "_________________________________________________________________\n",
            "bidirectional (Bidirectional (None, 128)               84480     \n",
            "_________________________________________________________________\n",
            "dense (Dense)                (None, 64)                8256      \n",
            "_________________________________________________________________\n",
            "dense_1 (Dense)              (None, 1)                 65        \n",
            "=================================================================\n",
            "Total params: 1,092,801\n",
            "Trainable params: 1,092,801\n",
            "Non-trainable params: 0\n",
            "_________________________________________________________________\n"
          ],
          "name": "stdout"
        }
      ]
    },
    {
      "cell_type": "code",
      "metadata": {
        "id": "7Lk9l0hs4z_8"
      },
      "source": [
        "early_stop = tf.keras.callbacks.EarlyStopping(monitor='val_loss', patience=5)"
      ],
      "execution_count": 20,
      "outputs": []
    },
    {
      "cell_type": "code",
      "metadata": {
        "colab": {
          "base_uri": "https://localhost:8080/"
        },
        "id": "hP4Mm5hTqBbI",
        "outputId": "a8c75e05-ead8-463f-a944-19003fcfe111"
      },
      "source": [
        "import time\n",
        "s = time.time()\n",
        "\n",
        "num_epochs = 30\n",
        "history = model.fit(train_padded, train_labels, epochs=num_epochs, batch_size=128,\n",
        "          validation_data=(test_padded, test_labels), verbose=1, callbacks=[early_stop])\n",
        "\n",
        "print(time.time() - s)"
      ],
      "execution_count": 21,
      "outputs": [
        {
          "output_type": "stream",
          "text": [
            "Epoch 1/30\n",
            "196/196 [==============================] - 12s 62ms/step - loss: 0.4436 - accuracy: 0.7830 - val_loss: 0.3634 - val_accuracy: 0.8444\n",
            "Epoch 2/30\n",
            "196/196 [==============================] - 11s 59ms/step - loss: 0.2470 - accuracy: 0.9077 - val_loss: 0.3335 - val_accuracy: 0.8664\n",
            "Epoch 3/30\n",
            "196/196 [==============================] - 12s 59ms/step - loss: 0.1839 - accuracy: 0.9346 - val_loss: 0.3520 - val_accuracy: 0.8483\n",
            "Epoch 4/30\n",
            "196/196 [==============================] - 12s 59ms/step - loss: 0.1431 - accuracy: 0.9509 - val_loss: 0.4105 - val_accuracy: 0.8479\n",
            "Epoch 5/30\n",
            "196/196 [==============================] - 11s 58ms/step - loss: 0.1247 - accuracy: 0.9575 - val_loss: 0.4829 - val_accuracy: 0.8453\n",
            "Epoch 6/30\n",
            "196/196 [==============================] - 11s 58ms/step - loss: 0.1110 - accuracy: 0.9603 - val_loss: 0.5667 - val_accuracy: 0.8338\n",
            "Epoch 7/30\n",
            "196/196 [==============================] - 12s 59ms/step - loss: 0.0698 - accuracy: 0.9771 - val_loss: 0.6257 - val_accuracy: 0.8452\n",
            "86.13375473022461\n"
          ],
          "name": "stdout"
        }
      ]
    },
    {
      "cell_type": "code",
      "metadata": {
        "colab": {
          "base_uri": "https://localhost:8080/",
          "height": 279
        },
        "id": "ZPOjnfwkqBbK",
        "outputId": "a48546f0-6c73-4393-99ab-b7c0cbbf365a"
      },
      "source": [
        "fig, (ax1, ax2) = plt.subplots(1, 2, figsize=(12, 4))\n",
        "\n",
        "ax1.plot(history.history['accuracy'])\n",
        "ax1.plot(history.history['val_accuracy'])\n",
        "ax1.set_xlabel('Epochs')\n",
        "ax1.set_ylabel('accuracy')\n",
        "ax1.legend(['accuarcy', 'val_accuracy'])\n",
        "\n",
        "ax2.plot(history.history['loss'])\n",
        "ax2.plot(history.history['val_loss'])\n",
        "ax2.set_xlabel('Epochs')\n",
        "ax2.set_ylabel('loss')\n",
        "ax2.legend(['loss', 'val_loss'])\n",
        "plt.show()"
      ],
      "execution_count": 22,
      "outputs": [
        {
          "output_type": "display_data",
          "data": {
            "image/png": "[encoded data removed]",
            "text/plain": [
              "<Figure size 864x288 with 2 Axes>"
            ]
          },
          "metadata": {
            "tags": [],
            "needs_background": "light"
          }
        }
      ]
    },
    {
      "cell_type": "code",
      "metadata": {
        "id": "1z-r1z0KqBbM"
      },
      "source": [
        "sample_text = ['The movei was terrible. I would not recommend the movie']\n",
        "#sample_text = ['The movei was fantastic. I would recommend the movie']\n",
        "#sample_text = ['The animation and graphics were out of this world']\n",
        "sample_seq = tokenizer.texts_to_sequences(sample_text)\n",
        "sample_padded = pad_sequences(sample_seq, maxlen=max_length, padding='post', truncating='post')"
      ],
      "execution_count": 33,
      "outputs": []
    },
    {
      "cell_type": "code",
      "metadata": {
        "colab": {
          "base_uri": "https://localhost:8080/"
        },
        "id": "q0ZU4YQ7qBbO",
        "outputId": "dadcdbea-a7c5-47c1-893e-1194dc77b79d"
      },
      "source": [
        "['positive' if model.predict([sample_padded]) >= 0.5 else 'negative']"
      ],
      "execution_count": 34,
      "outputs": [
        {
          "output_type": "execute_result",
          "data": {
            "text/plain": [
              "['negative']"
            ]
          },
          "metadata": {
            "tags": []
          },
          "execution_count": 34
        }
      ]
    },
    {
      "cell_type": "code",
      "metadata": {
        "id": "rmhMQOlo6Qyc"
      },
      "source": [
        ""
      ],
      "execution_count": null,
      "outputs": []
    }
  ]
}